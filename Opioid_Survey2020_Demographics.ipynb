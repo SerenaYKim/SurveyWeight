{
  "nbformat": 4,
  "nbformat_minor": 0,
  "metadata": {
    "colab": {
      "name": "Opioid-Survey2020-Demographics.ipynb",
      "provenance": [],
      "toc_visible": true,
      "mount_file_id": "1-KJHqObH8_K8kNK10XXneEE6ollYsp7j",
      "authorship_tag": "ABX9TyNvJSKBc8H7PJGUK+919WY0",
      "include_colab_link": true
    },
    "kernelspec": {
      "name": "python3",
      "display_name": "Python 3"
    }
  },
  "cells": [
    {
      "cell_type": "markdown",
      "metadata": {
        "id": "view-in-github",
        "colab_type": "text"
      },
      "source": [
        "<a href=\"https://colab.research.google.com/github/SerenaYKim/SurveyWeights/blob/master/Opioid_Survey2020_Demographics.ipynb\" target=\"_parent\"><img src=\"https://colab.research.google.com/assets/colab-badge.svg\" alt=\"Open In Colab\"/></a>"
      ]
    },
    {
      "cell_type": "markdown",
      "metadata": {
        "id": "iP7v-CDY48F_"
      },
      "source": [
        "### Import"
      ]
    },
    {
      "cell_type": "code",
      "metadata": {
        "id": "QFFsWJSOsp43"
      },
      "source": [
        "import pandas as pd\n",
        "import os\n",
        "import matplotlib.pyplot as plt\n",
        "import numpy as np\n",
        "from random import sample\n",
        "from itertools import chain \n",
        "import csv\n",
        "import glob\n",
        "import os\n",
        "from functools import reduce"
      ],
      "execution_count": 1,
      "outputs": []
    },
    {
      "cell_type": "markdown",
      "metadata": {
        "id": "vnDtjt-U4P8t"
      },
      "source": [
        "### Load Dataset"
      ]
    },
    {
      "cell_type": "code",
      "metadata": {
        "id": "sdy1SqCLvshn"
      },
      "source": [
        "urbanrural = pd.read_csv(\"/content/drive/MyDrive/G10-Opioid/dataDemographics/urban_rural_cdc.csv\")\n",
        "race = pd.read_csv(\"/content/drive/MyDrive/G10-Opioid/dataDemographics/race.csv\")\n",
        "pop = pd.read_csv(\"/content/drive/MyDrive/G10-Opioid/dataDemographics/medicaid.csv\")\n",
        "agegender = pd.read_csv(\"/content/drive/MyDrive/G10-Opioid/dataDemographics/age_gender.csv\")\n",
        "surveycrosswalk = pd.read_csv(\"/content/drive/MyDrive/G10-Opioid/dataDemographics/survey_crosswalk.csv\")"
      ],
      "execution_count": 4,
      "outputs": []
    },
    {
      "cell_type": "markdown",
      "metadata": {
        "id": "6nfWEeZl5xyy"
      },
      "source": [
        "### Merge and group by \"external data reference\""
      ]
    },
    {
      "cell_type": "code",
      "metadata": {
        "id": "88WGoEH56QW3"
      },
      "source": [
        "frame = [urbanrural, race, pop, agegender, surveycrosswalk]\n",
        "merged = reduce(lambda left,right: pd.merge(left, right, on=['fips'],\n",
        "                                            how='right'), frame)"
      ],
      "execution_count": 5,
      "outputs": []
    },
    {
      "cell_type": "code",
      "metadata": {
        "id": "uaUUlExZ7wMj",
        "colab": {
          "base_uri": "https://localhost:8080/"
        },
        "outputId": "75f854a0-6573-46d1-b822-038f7d9780bf"
      },
      "source": [
        "df = merged\n",
        "\n",
        "collist = df.columns.values.tolist()\n",
        "print(collist)"
      ],
      "execution_count": 6,
      "outputs": [
        {
          "output_type": "stream",
          "text": [
            "['fips', 'cdc_urban_rural', 'population', 'white', 'black', 'indian', 'asian', 'hawaiian', 'other', 'twoormore', 'threeormore', 'hiswhite', 'hisblack', 'hisindian', 'hisasian', 'hishawaiian', 'hisother', 'histwoormore', 'histhreeormore', 'MedicareCoverageUnder19', 'MedicareCoverageUnder65over', 'medianage', 'SexRatioMalesPer100Females', 'firstname', 'primaryemail', 'externaldatareference', 'unit_id', 'state_name', 'county_name', 'state_fips', 'cnty_fips', 'shared', 'district', 'responded']\n"
          ],
          "name": "stdout"
        }
      ]
    },
    {
      "cell_type": "code",
      "metadata": {
        "id": "nOa7eCDd6dpY"
      },
      "source": [
        "#df = df.rename({'pop_x': 'population'}, axis=1, inplace=True)\n",
        "#df = df.drop(columns=['Population', 'pop'])"
      ],
      "execution_count": 7,
      "outputs": []
    },
    {
      "cell_type": "code",
      "metadata": {
        "id": "DCvHpWyR6fD-"
      },
      "source": [
        "df['hispanic'] = df[\"hiswhite\"]+ df[\"hisblack\"] + df[\"hisindian\"] + df[\"hisasian\"] + df[\"hishawaiian\"] + df[\"hisother\"] + df[\"histwoormore\"]  + df[\"histhreeormore\"]\n",
        "df['location'] = df[\"county_name\"]+\", \"+ df[\"state_name\"]"
      ],
      "execution_count": 8,
      "outputs": []
    },
    {
      "cell_type": "code",
      "metadata": {
        "id": "tj-ZFrW6AZMC"
      },
      "source": [
        "df['externaldatareference_st'] = df['externaldatareference'].astype(str)\n",
        "df['fips_st'] = df['fips'].astype(str)"
      ],
      "execution_count": 9,
      "outputs": []
    },
    {
      "cell_type": "code",
      "metadata": {
        "id": "qlmBOqbd_PDI"
      },
      "source": [
        "# population \n",
        "\n",
        "series_population = df.groupby(\"externaldatareference\").apply(lambda x: np.sum(x['population']))\n",
        "df_population = pd.DataFrame(series_population)\n",
        "df_population = df_population.rename(columns = {0:'population'})"
      ],
      "execution_count": 10,
      "outputs": []
    },
    {
      "cell_type": "code",
      "metadata": {
        "id": "E5Y9GfRNzd8z"
      },
      "source": [
        "# age \n",
        "\n",
        "series_age = df.groupby(\"externaldatareference\").apply(lambda x: np.average(x['medianage'], weights=x['population']))\n",
        "df_age = pd.DataFrame(series_age)\n",
        "df_age = df_age.rename(columns={0:\"medianage\"})"
      ],
      "execution_count": 11,
      "outputs": []
    },
    {
      "cell_type": "code",
      "metadata": {
        "id": "j1tC6Dyd0XKd"
      },
      "source": [
        "# gender \n",
        "\n",
        "series_maletofemale = df.groupby(\"externaldatareference\").apply(lambda x: np.average(x['SexRatioMalesPer100Females'], weights=x['population']))\n",
        "df_maletofemale = pd.DataFrame(series_maletofemale)\n",
        "df_maletofemale = df_maletofemale.rename(columns = {0:'SexRatioMalesPer100Females'})"
      ],
      "execution_count": 12,
      "outputs": []
    },
    {
      "cell_type": "code",
      "metadata": {
        "id": "KWpgf6W3yUHP"
      },
      "source": [
        "# race\n",
        "\n",
        "series_white = df.groupby(\"externaldatareference\").apply(lambda x: np.average(x['white'], weights=x['population']))\n",
        "df_white = pd.DataFrame(series_white)\n",
        "df_white = df_white.rename(columns = {0:'white'})\n",
        "\n",
        "series_black = df.groupby(\"externaldatareference\").apply(lambda x: np.average(x['black'], weights=x['population']))\n",
        "df_black = pd.DataFrame(series_black)\n",
        "df_black = df_black.rename(columns = {0:'black'})\n",
        "\n",
        "series_indian = df.groupby(\"externaldatareference\").apply(lambda x: np.average(x['indian'], weights=x['population']))\n",
        "df_indian = pd.DataFrame(series_indian)\n",
        "df_indian = df_indian.rename(columns = {0:'indian'})\n",
        "\n",
        "series_asian = df.groupby(\"externaldatareference\").apply(lambda x: np.average(x['asian'], weights=x['population']))\n",
        "df_asian = pd.DataFrame(series_asian)\n",
        "df_asian = df_asian.rename(columns = {0:'asian'})\n",
        "\n",
        "series_other = df.groupby(\"externaldatareference\").apply(lambda x: np.average(x['other'], weights=x['population']))\n",
        "df_other = pd.DataFrame(series_other)\n",
        "df_other = df_other.rename(columns = {0:'other'})\n",
        "\n",
        "series_twoormore = df.groupby(\"externaldatareference\").apply(lambda x: np.average(x['twoormore'], weights=x['population']))\n",
        "df_twoormore = pd.DataFrame(series_twoormore)\n",
        "df_twoormore = df_twoormore.rename(columns = {0:'twoormore'})\n",
        "\n",
        "series_threeormore = df.groupby(\"externaldatareference\").apply(lambda x: np.average(x['threeormore'], weights=x['population']))\n",
        "df_threeormore = pd.DataFrame(series_threeormore)\n",
        "df_threeormore = df_threeormore.rename(columns = {0:'threeormore'})\n",
        "\n",
        "series_hispanic = df.groupby(\"externaldatareference\").apply(lambda x: np.average(x['hispanic'], weights=x['population']))\n",
        "df_hispanic = pd.DataFrame(series_hispanic)\n",
        "df_hispanic = df_hispanic.rename(columns = {0:'hispanic'})"
      ],
      "execution_count": 13,
      "outputs": []
    },
    {
      "cell_type": "markdown",
      "metadata": {
        "id": "ZKIVRWMRDjjJ"
      },
      "source": [
        "### Concatenate strings "
      ]
    },
    {
      "cell_type": "code",
      "metadata": {
        "id": "H32OUOilOVzm"
      },
      "source": [
        "df_copy_loc = df\n",
        "df_copy_fip = df"
      ],
      "execution_count": 15,
      "outputs": []
    },
    {
      "cell_type": "code",
      "metadata": {
        "id": "f-v_pxTF0UqZ"
      },
      "source": [
        "#df.location = np.where(df.location.isnull(),\"error\",df.location)\n",
        "\n",
        "df_copy_loc['location'] = df_copy_loc[['externaldatareference', 'location']].groupby(['externaldatareference'])['location'].transform(lambda x : '; '.join(x)) \n",
        "df_copy_loc = df_copy_loc[['externaldatareference', 'location']].drop_duplicates()\n",
        "\n",
        "df_copy_fip['fips_st'] = df_copy_fip[['externaldatareference', 'fips_st']].groupby(['externaldatareference'])['fips_st'].transform(lambda x : '; '.join(x)) \n",
        "df_copy_fip = df_copy_fip[['externaldatareference', 'fips_st']].drop_duplicates()\n"
      ],
      "execution_count": 16,
      "outputs": []
    },
    {
      "cell_type": "markdown",
      "metadata": {
        "id": "EXT3iE8KEQDg"
      },
      "source": [
        "### Merge and export"
      ]
    },
    {
      "cell_type": "code",
      "metadata": {
        "id": "l6vCCZ77QBJj"
      },
      "source": [
        "frame_loc = [df_copy_loc, df_copy_fip]\n",
        "merged_loc = reduce(lambda left,right: pd.merge(left, right, on=['externaldatareference'],\n",
        "                                            how='inner'),frame_loc)"
      ],
      "execution_count": 17,
      "outputs": []
    },
    {
      "cell_type": "code",
      "metadata": {
        "id": "3fTEEYm1GYrF"
      },
      "source": [
        "df_demographics = pd.concat([df_population, df_age, df_maletofemale, df_white, df_black, df_indian, df_asian, df_other, df_twoormore, df_threeormore, df_hispanic], axis=1)\n",
        "df_demographics = df_demographics.reset_index()"
      ],
      "execution_count": 18,
      "outputs": []
    },
    {
      "cell_type": "code",
      "metadata": {
        "id": "7LX2BIbDEQg5"
      },
      "source": [
        "frames = [df_demographics, merged_loc]\n",
        "demographics_master = reduce(lambda left,right: pd.merge(left, right, on=['externaldatareference'],\n",
        "                                            how='inner'),frames)"
      ],
      "execution_count": 19,
      "outputs": []
    },
    {
      "cell_type": "code",
      "metadata": {
        "id": "r_PW81maZ5Bc"
      },
      "source": [
        "demographics_master.to_csv(\"/content/drive/MyDrive/G10-Opioid/dataDemographics/demographics_master.csv\")"
      ],
      "execution_count": 20,
      "outputs": []
    },
    {
      "cell_type": "markdown",
      "metadata": {
        "id": "OiEESB1R5Fhh"
      },
      "source": [
        "### References \n",
        "\n",
        "* https://datatofish.com/convert-pandas-series-to-dataframe/ \n",
        "\n",
        "* https://www.geeksforgeeks.org/concatenate-strings-from-several-rows-using-pandas-groupby/ \n",
        "\n",
        "* https://stackoverflow.com/questions/55998672/how-to-fix-this-typeerror-sequence-item-0-expected-str-instance-float-found"
      ]
    }
  ]
}